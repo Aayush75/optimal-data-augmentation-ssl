{
 "cells": [
  {
   "cell_type": "markdown",
   "id": "140df019",
   "metadata": {},
   "source": [
    "# Procrustes Distance Analysis for Barlow Twins Training\n",
    "\n",
    "This notebook analyzes Procrustes distances during Barlow Twins training, recreating Figure 4 from the paper.\n",
    "\n",
    "**Based on:** \"A Theoretical Characterization of Optimal Data Augmentations in Self-Supervised Learning\" (arXiv:2411.01767v3)\n",
    "\n",
    "## Important Notes\n",
    "- Run `scripts/run_experiment.py` first to generate the results files.\n",
    "- The experiment now uses mini-batch training (batch_size=256) for stability.\n",
    "- Checkpoint system available with `--resume` flag to resume interrupted experiments.\n",
    "- Only RBF kernels used for numerical stability."
   ]
  },
  {
   "cell_type": "code",
   "execution_count": null,
   "id": "1c5fd3b8",
   "metadata": {},
   "outputs": [],
   "source": [
    "import os\n",
    "import sys\n",
    "import numpy as np\n",
    "import matplotlib.pyplot as plt\n",
    "import seaborn as sns\n",
    "\n",
    "sys.path.insert(0, os.path.join(os.getcwd(), '..'))\n",
    "\n",
    "# Set style\n",
    "sns.set_style('whitegrid')\n",
    "plt.rcParams['figure.figsize'] = (12, 6)\n",
    "\n",
    "print(\"Libraries imported\")"
   ]
  },
  {
   "cell_type": "markdown",
   "id": "38725435",
   "metadata": {},
   "source": [
    "## Load Experimental Results"
   ]
  },
  {
   "cell_type": "code",
   "execution_count": null,
   "id": "c8692adf",
   "metadata": {},
   "outputs": [],
   "source": [
    "# Load Procrustes distances from experiment\n",
    "procrustes_to_target = np.load('../results/procrustes_to_target.npy')\n",
    "procrustes_to_random = np.load('../results/procrustes_to_random.npy')\n",
    "\n",
    "print(f\"Loaded {len(procrustes_to_target)} iterations of training data\")\n",
    "print(f\"Final distance to target: {procrustes_to_target[-1]:.4f}\")\n",
    "print(f\"Final distance to random: {procrustes_to_random[-1]:.4f}\")"
   ]
  },
  {
   "cell_type": "markdown",
   "id": "d5bd9f1d",
   "metadata": {},
   "source": [
    "## Plot Procrustes Distance Over Training"
   ]
  },
  {
   "cell_type": "code",
   "execution_count": null,
   "id": "f2296e07",
   "metadata": {},
   "outputs": [],
   "source": [
    "plt.figure(figsize=(14, 7))\n",
    "\n",
    "plt.plot(procrustes_to_target, linewidth=2.5, label='Distance to Target', color='#2E86AB')\n",
    "plt.plot(procrustes_to_random, linewidth=2.5, label='Distance to Random', color='#A23B72', linestyle='--')\n",
    "\n",
    "plt.xlabel('Training Iteration', fontsize=14, fontweight='bold')\n",
    "plt.ylabel('Average Procrustes Distance', fontsize=14, fontweight='bold')\n",
    "plt.title('Procrustes Distance During Barlow Twins Training\\n(Recreating Figure 4 from Paper)', \n",
    "          fontsize=16, fontweight='bold')\n",
    "plt.legend(fontsize=12, loc='upper right')\n",
    "plt.grid(True, alpha=0.3)\n",
    "plt.tight_layout()\n",
    "\n",
    "plt.savefig('../results/plots/procrustes_analysis.png', dpi=150, bbox_inches='tight')\n",
    "plt.show()\n",
    "\n",
    "print(\"Plot saved to ../results/plots/procrustes_analysis.png\")"
   ]
  }
 ],
 "metadata": {
  "language_info": {
   "name": "python"
  }
 },
 "nbformat": 4,
 "nbformat_minor": 5
}
