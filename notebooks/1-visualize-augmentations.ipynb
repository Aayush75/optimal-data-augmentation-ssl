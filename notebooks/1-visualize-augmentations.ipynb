{
 "cells": [
  {
   "cell_type": "markdown",
   "id": "fd4594e2",
   "metadata": {},
   "source": [
    "# Visualize Optimal Augmentations for CIFAR-100\n",
    "\n",
    "This notebook implements visualization of optimal data augmentations for Self-Supervised Learning using Barlow Twins on CIFAR-100 with ResNet-18 as the target model.\n",
    "\n",
    "**Based on:** \"A Theoretical Characterization of Optimal Data Augmentations in Self-Supervised Learning\" (arXiv:2411.01767v3)\n",
    "\n",
    "## Contents\n",
    "1. Setup and imports\n",
    "2. Load configuration and data\n",
    "3. Extract target representations\n",
    "4. Generate optimal augmentations with different kernels\n",
    "5. Visualize and compare results"
   ]
  },
  {
   "cell_type": "markdown",
   "id": "7f4755f7",
   "metadata": {},
   "source": [
    "## 1. Import Required Libraries"
   ]
  },
  {
   "cell_type": "code",
   "execution_count": null,
   "id": "2a083043",
   "metadata": {},
   "outputs": [],
   "source": [
    "import os\n",
    "import sys\n",
    "import yaml\n",
    "import numpy as np\n",
    "import torch\n",
    "import matplotlib.pyplot as plt\n",
    "import seaborn as sns\n",
    "from pathlib import Path\n",
    "\n",
    "# Add src to path\n",
    "sys.path.insert(0, os.path.join(os.getcwd(), '..'))\n",
    "\n",
    "from src.utils import (\n",
    "    load_cifar100,\n",
    "    images_to_matrix,\n",
    "    matrix_to_images,\n",
    "    denormalize_images,\n",
    "    save_image_grid,\n",
    "    create_comparison_grid,\n",
    "    set_seed,\n",
    ")\n",
    "from src.kernels import get_kernel, check_kernel_conditions\n",
    "from src.target_models import TargetModel\n",
    "from src.augmentation_generator import BarlowTwinsAugmentationGenerator\n",
    "\n",
    "# Set style\n",
    "sns.set_style('whitegrid')\n",
    "plt.rcParams['figure.figsize'] = (15, 10)\n",
    "\n",
    "print(\"✓ All libraries imported successfully\")"
   ]
  },
  {
   "cell_type": "markdown",
   "id": "df28f4e0",
   "metadata": {},
   "source": [
    "## 2. Load Configuration"
   ]
  },
  {
   "cell_type": "code",
   "execution_count": null,
   "id": "c1ae4d88",
   "metadata": {},
   "outputs": [],
   "source": [
    "# Load main configuration\n",
    "with open('../configs/barlow_twins_cifar100.yaml', 'r') as f:\n",
    "    config = yaml.safe_load(f)\n",
    "\n",
    "# Load kernel configurations\n",
    "with open('../configs/kernels.yaml', 'r') as f:\n",
    "    kernel_configs = yaml.safe_load(f)\n",
    "\n",
    "# Set random seed\n",
    "set_seed(config['experiment']['seed'])\n",
    "\n",
    "print(\"Configuration loaded:\")\n",
    "print(f\"  Dataset: {config['data']['dataset']}\")\n",
    "print(f\"  Target model: {config['target_model']['architecture']}\")\n",
    "print(f\"  PCA dim: {config['target_model']['pca_dim']}\")\n",
    "print(f\"  Num samples: {config['data']['num_train_samples']}\")\n",
    "print(f\"  Device: {config['experiment']['device']}\")"
   ]
  },
  {
   "cell_type": "markdown",
   "id": "b6704661",
   "metadata": {},
   "source": [
    "## 3. Load CIFAR-100 Dataset"
   ]
  },
  {
   "cell_type": "code",
   "execution_count": null,
   "id": "e71c71e6",
   "metadata": {},
   "outputs": [],
   "source": [
    "# Load CIFAR-100\n",
    "print(\"Loading CIFAR-100 dataset...\")\n",
    "images, labels = load_cifar100(\n",
    "    data_dir=config['data']['data_dir'],\n",
    "    train=True,\n",
    "    download=True,\n",
    "    normalize=config['data']['normalize'],\n",
    "    num_samples=config['data']['num_train_samples'],\n",
    ")\n",
    "\n",
    "print(f\"✓ Loaded {len(images)} images\")\n",
    "print(f\"  Shape: {images.shape}\")\n",
    "print(f\"  Classes: {len(np.unique(labels))}\")\n",
    "\n",
    "# Convert to matrix format for kernel methods\n",
    "X_train = images_to_matrix(images)\n",
    "print(f\"  Data matrix shape: {X_train.shape} (features x samples)\")"
   ]
  },
  {
   "cell_type": "markdown",
   "id": "3281e16f",
   "metadata": {},
   "source": [
    "## 4. Visualize Original Images"
   ]
  },
  {
   "cell_type": "code",
   "execution_count": null,
   "id": "286b9be2",
   "metadata": {},
   "outputs": [],
   "source": [
    "# Visualize a sample of original images\n",
    "num_display = 64\n",
    "images_to_display = denormalize_images(images[:num_display])\n",
    "\n",
    "fig = plt.figure(figsize=(12, 12))\n",
    "for i in range(min(num_display, 64)):\n",
    "    ax = plt.subplot(8, 8, i + 1)\n",
    "    img = images_to_display[i].transpose(1, 2, 0)\n",
    "    plt.imshow(img)\n",
    "    plt.axis('off')\n",
    "\n",
    "plt.suptitle('Sample Original CIFAR-100 Images', fontsize=16)\n",
    "plt.tight_layout()\n",
    "plt.show()"
   ]
  },
  {
   "cell_type": "markdown",
   "id": "926b0778",
   "metadata": {},
   "source": [
    "## 5. Load Target Model and Extract Representations\n",
    "\n",
    "We use a pretrained ResNet-18 as our target model f*, following the paper's approach."
   ]
  },
  {
   "cell_type": "code",
   "execution_count": null,
   "id": "03768400",
   "metadata": {},
   "outputs": [],
   "source": [
    "print(\"Loading target model...\")\n",
    "target_model = TargetModel(\n",
    "    architecture=config['target_model']['architecture'],\n",
    "    pretrained=config['target_model']['pretrained'],\n",
    "    weights=config['target_model']['weights'],\n",
    "    pca_dim=config['target_model']['pca_dim'],\n",
    "    device=config['experiment']['device'],\n",
    ")\n",
    "print(f\"✓ {target_model}\")\n",
    "\n",
    "print(\"\\nExtracting target representations...\")\n",
    "F_target = target_model.get_target_representations(\n",
    "    torch.from_numpy(images).float(),\n",
    "    fit_pca=True,\n",
    "    batch_size=64,\n",
    ")\n",
    "print(f\"✓ Target representations shape: {F_target.shape}\")\n",
    "\n",
    "# Convert to (d, n) format for algorithm\n",
    "F_target = F_target.T\n",
    "print(f\"  Reformatted to: {F_target.shape} (d x n)\")"
   ]
  },
  {
   "cell_type": "markdown",
   "id": "aedce8af",
   "metadata": {},
   "source": [
    "## 6. Generate Augmentations with Different Kernels\n",
    "\n",
    "Following Figure 3 in the paper, we generate augmentations using different kernel functions to show that \"different function classes require different augmentations to achieve the same representations.\""
   ]
  },
  {
   "cell_type": "code",
   "execution_count": null,
   "id": "d9b0db5b",
   "metadata": {},
   "outputs": [],
   "source": [
    "# Select kernels to compare\n",
    "kernels_to_test = ['linear', 'rbf_medium', 'rbf_large']\n",
    "num_vis_samples = 100  # Number of samples to visualize\n",
    "\n",
    "augmentation_results = {}\n",
    "\n",
    "for kernel_name in kernels_to_test:\n",
    "    print(f\"\\n{'='*60}\")\n",
    "    print(f\"Generating augmentations with: {kernel_name}\")\n",
    "    print(f\"{'='*60}\")\n",
    "    \n",
    "    # Get kernel configuration\n",
    "    kernel_config = kernel_configs['kernels'][kernel_name]\n",
    "    print(f\"Config: {kernel_config}\")\n",
    "    \n",
    "    # Create kernel\n",
    "    kernel = get_kernel(**kernel_config)\n",
    "    print(f\"Kernel: {kernel}\")\n",
    "    \n",
    "    # Create augmentation generator\n",
    "    generator = BarlowTwinsAugmentationGenerator(\n",
    "        kernel=kernel,\n",
    "        lambda_ridge=config['augmentation']['lambda_ridge'],\n",
    "        mu_p=config['augmentation']['mu_p'],\n",
    "        check_conditions=True,\n",
    "    )\n",
    "    \n",
    "    # Generate augmentations\n",
    "    indices = np.arange(num_vis_samples)\n",
    "    X_augmented = generator.fit_transform(X_train, F_target, indices=indices)\n",
    "    \n",
    "    # Convert back to images\n",
    "    image_shape = (3, 32, 32)\n",
    "    images_aug = matrix_to_images(X_augmented, image_shape)\n",
    "    \n",
    "    # Store results\n",
    "    augmentation_results[kernel_name] = {\n",
    "        'augmented': images_aug,\n",
    "        'original': matrix_to_images(X_train[:, indices], image_shape),\n",
    "        'kernel': kernel,\n",
    "        'generator': generator,\n",
    "    }\n",
    "    \n",
    "    print(f\"✓ Generated {len(images_aug)} augmented images\")"
   ]
  },
  {
   "cell_type": "markdown",
   "id": "495aab25",
   "metadata": {},
   "source": [
    "## 7. Visualize Augmentations by Kernel Type"
   ]
  },
  {
   "cell_type": "code",
   "execution_count": null,
   "id": "b672e95a",
   "metadata": {},
   "outputs": [],
   "source": [
    "# Visualize augmentations for each kernel\n",
    "for kernel_name, results in augmentation_results.items():\n",
    "    print(f\"\\nVisualizing {kernel_name} kernel augmentations...\")\n",
    "    \n",
    "    # Denormalize for visualization\n",
    "    orig_vis = denormalize_images(results['original'][:64])\n",
    "    aug_vis = denormalize_images(results['augmented'][:64])\n",
    "    \n",
    "    # Create comparison figure\n",
    "    fig, axes = plt.subplots(2, 1, figsize=(16, 8))\n",
    "    \n",
    "    # Original images\n",
    "    grid_orig = torch.from_numpy(orig_vis).float()\n",
    "    grid_orig = torchvision.utils.make_grid(grid_orig, nrow=8, padding=2, normalize=False)\n",
    "    axes[0].imshow(grid_orig.permute(1, 2, 0))\n",
    "    axes[0].set_title(f'Original Images', fontsize=14)\n",
    "    axes[0].axis('off')\n",
    "    \n",
    "    # Augmented images\n",
    "    grid_aug = torch.from_numpy(aug_vis).float()\n",
    "    grid_aug = torchvision.utils.make_grid(grid_aug, nrow=8, padding=2, normalize=False)\n",
    "    axes[1].imshow(grid_aug.permute(1, 2, 0))\n",
    "    axes[1].set_title(f'Augmented Images ({kernel_name} kernel)', fontsize=14)\n",
    "    axes[1].axis('off')\n",
    "    \n",
    "    plt.suptitle(f'Comparison: {kernel_name.upper()} Kernel', fontsize=16, fontweight='bold')\n",
    "    plt.tight_layout()\n",
    "    plt.show()"
   ]
  },
  {
   "cell_type": "markdown",
   "id": "2979add0",
   "metadata": {},
   "source": [
    "## 8. Side-by-Side Comparison Across Kernels\n",
    "\n",
    "This recreates the visualization style of Figure 3 in the paper, showing that different kernels produce semantically different augmentations."
   ]
  },
  {
   "cell_type": "code",
   "execution_count": null,
   "id": "94eb57c1",
   "metadata": {},
   "outputs": [],
   "source": [
    "import torchvision\n",
    "\n",
    "# Create multi-kernel comparison\n",
    "num_examples = 16\n",
    "fig, axes = plt.subplots(len(kernels_to_test) + 1, 1, figsize=(16, 4 * (len(kernels_to_test) + 1)))\n",
    "\n",
    "# Show originals first\n",
    "orig_vis = denormalize_images(augmentation_results[kernels_to_test[0]]['original'][:num_examples])\n",
    "grid = torch.from_numpy(orig_vis).float()\n",
    "grid = torchvision.utils.make_grid(grid, nrow=8, padding=4, normalize=False)\n",
    "axes[0].imshow(grid.permute(1, 2, 0))\n",
    "axes[0].set_title('Original CIFAR-100 Images', fontsize=14, fontweight='bold')\n",
    "axes[0].axis('off')\n",
    "\n",
    "# Show augmentations for each kernel\n",
    "for idx, kernel_name in enumerate(kernels_to_test, start=1):\n",
    "    aug_vis = denormalize_images(augmentation_results[kernel_name]['augmented'][:num_examples])\n",
    "    grid = torch.from_numpy(aug_vis).float()\n",
    "    grid = torchvision.utils.make_grid(grid, nrow=8, padding=4, normalize=False)\n",
    "    axes[idx].imshow(grid.permute(1, 2, 0))\n",
    "    axes[idx].set_title(f'Augmented with {kernel_name.upper()} Kernel', fontsize=14, fontweight='bold')\n",
    "    axes[idx].axis('off')\n",
    "\n",
    "plt.suptitle('Optimal Augmentations Vary by Kernel Function\\\\n(Recreating Figure 3 from Paper)', \n",
    "             fontsize=18, fontweight='bold', y=1.00)\n",
    "plt.tight_layout()\n",
    "plt.savefig('../results/generated_images/kernel_comparison.png', dpi=150, bbox_inches='tight')\n",
    "plt.show()\n",
    "\n",
    "print(\"✓ Saved comparison to: ../results/generated_images/kernel_comparison.png\")"
   ]
  },
  {
   "cell_type": "markdown",
   "id": "44d869f2",
   "metadata": {},
   "source": [
    "## 9. Analyze Augmentation Properties\n",
    "\n",
    "Examine the properties of the generated augmentations and the transformation matrices."
   ]
  },
  {
   "cell_type": "code",
   "execution_count": null,
   "id": "8c9e8bea",
   "metadata": {},
   "outputs": [],
   "source": [
    "# Analyze transformation properties for each kernel\n",
    "print(\"=\"*60)\n",
    "print(\"AUGMENTATION TRANSFORMATION ANALYSIS\")\n",
    "print(\"=\"*60)\n",
    "\n",
    "for kernel_name, results in augmentation_results.items():\n",
    "    print(f\"\\n{kernel_name.upper()} Kernel:\")\n",
    "    print(\"-\" * 40)\n",
    "    \n",
    "    generator = results['generator']\n",
    "    aug_info = generator.get_augmentation_distribution()\n",
    "    \n",
    "    print(f\"  Transformation matrix shape: {aug_info['transformation_matrix'].shape}\")\n",
    "    print(f\"  Min eigenvalue: {aug_info['min_eigenvalue']:.6e}\")\n",
    "    print(f\"  Max eigenvalue: {aug_info['max_eigenvalue']:.6e}\")\n",
    "    print(f\"  Condition number: {aug_info['condition_number']:.6e}\")\n",
    "    \n",
    "    # Visualize eigenvalue spectrum\n",
    "    eigvals = aug_info['eigenvalues']\n",
    "    plt.figure(figsize=(8, 4))\n",
    "    plt.plot(np.sort(eigvals)[::-1], 'o-', linewidth=2, markersize=4)\n",
    "    plt.xlabel('Index', fontsize=12)\n",
    "    plt.ylabel('Eigenvalue', fontsize=12)\n",
    "    plt.title(f'Eigenvalue Spectrum of T_H Matrix ({kernel_name})', fontsize=14)\n",
    "    plt.grid(True, alpha=0.3)\n",
    "    plt.tight_layout()\n",
    "    plt.show()"
   ]
  },
  {
   "cell_type": "markdown",
   "id": "9dede271",
   "metadata": {},
   "source": [
    "## 10. Key Insights\n",
    "\n",
    "Based on the visualizations above, we can observe:\n",
    "\n",
    "1. **Architecture Matters**: Different kernel functions (representing different architectures) produce recognizably different augmentations for the same target representations.\n",
    "\n",
    "2. **Augmentations Need Not Resemble Data**: The generated augmentations can look quite different from the original CIFAR-100 distribution, yet they achieve the desired representations.\n",
    "\n",
    "3. **Single Augmentation Suffices**: We use just one non-trivial augmentation (plus identity) as described in the paper, following Moutakanni et al. (2024).\n",
    "\n",
    "4. **Theoretical Guarantees**: All augmentations are guaranteed to achieve the target representations up to orthogonal transformation (Theorem 4.4)."
   ]
  },
  {
   "cell_type": "markdown",
   "id": "48b21e17",
   "metadata": {},
   "source": [
    "## 11. Save Results"
   ]
  },
  {
   "cell_type": "code",
   "execution_count": null,
   "id": "e5d426e5",
   "metadata": {},
   "outputs": [],
   "source": [
    "# Save individual kernel results\n",
    "os.makedirs('../results/generated_images', exist_ok=True)\n",
    "\n",
    "for kernel_name, results in augmentation_results.items():\n",
    "    print(f\"Saving {kernel_name} results...\")\n",
    "    \n",
    "    # Save augmented images grid\n",
    "    aug_vis = denormalize_images(results['augmented'][:100])\n",
    "    save_image_grid(\n",
    "        aug_vis,\n",
    "        f'../results/generated_images/{kernel_name}_augmented.png',\n",
    "        nrow=10,\n",
    "        title=f'Augmented Images ({kernel_name} kernel)',\n",
    "    )\n",
    "    \n",
    "    # Save original images grid\n",
    "    orig_vis = denormalize_images(results['original'][:100])\n",
    "    save_image_grid(\n",
    "        orig_vis,\n",
    "        f'../results/generated_images/{kernel_name}_original.png',\n",
    "        nrow=10,\n",
    "        title='Original Images',\n",
    "    )\n",
    "\n",
    "print(\"\\n✓ All results saved to ../results/generated_images/\")"
   ]
  }
 ],
 "metadata": {
  "language_info": {
   "name": "python"
  }
 },
 "nbformat": 4,
 "nbformat_minor": 5
}
